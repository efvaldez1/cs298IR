{
 "cells": [
  {
   "cell_type": "code",
   "execution_count": null,
   "metadata": {},
   "outputs": [],
   "source": [
    "from __future__ import generators, division, absolute_import, with_statement, print_function, unicode_literals\n",
    "\n",
    "import tensorflow as tf\n",
    "import numpy as np\n",
    "import matplotlib.pyplot as plt\n",
    "import tensorflow.contrib.slim as slim\n",
    "\n",
    "flags = tf.app.flags\n",
    "FLAGS = flags.FLAGS\n",
    "\n",
    "def mnist_model(input, reuse=False):\n",
    "\twith tf.name_scope(\"model\"):\n",
    "\t\twith tf.variable_scope(\"conv1\") as scope:\n",
    "\t\t\tnet = tf.contrib.layers.conv2d(input, 32, [7, 7], activation_fn=tf.nn.relu, padding='SAME',\n",
    "\t\t        weights_initializer=tf.contrib.layers.xavier_initializer_conv2d(),scope=scope,reuse=reuse)\n",
    "\t\t\tnet = tf.contrib.layers.max_pool2d(net, [2, 2], padding='SAME')\n",
    "\n",
    "\t\twith tf.variable_scope(\"conv2\") as scope:\n",
    "\t\t\tnet = tf.contrib.layers.conv2d(net, 64, [5, 5], activation_fn=tf.nn.relu, padding='SAME',\n",
    "\t\t        weights_initializer=tf.contrib.layers.xavier_initializer_conv2d(),scope=scope,reuse=reuse)\n",
    "\t\t\tnet = tf.contrib.layers.max_pool2d(net, [2, 2], padding='SAME')\n",
    "\n",
    "\t\twith tf.variable_scope(\"conv3\") as scope:\n",
    "\t\t\tnet = tf.contrib.layers.conv2d(net, 128, [3, 3], activation_fn=tf.nn.relu, padding='SAME',\n",
    "\t\t        weights_initializer=tf.contrib.layers.xavier_initializer_conv2d(),scope=scope,reuse=reuse)\n",
    "\t\t\tnet = tf.contrib.layers.max_pool2d(net, [2, 2], padding='SAME')\n",
    "\n",
    "\t\twith tf.variable_scope(\"conv4\") as scope:\n",
    "\t\t\tnet = tf.contrib.layers.conv2d(net, 256, [1, 1], activation_fn=tf.nn.relu, padding='SAME',\n",
    "\t\t        weights_initializer=tf.contrib.layers.xavier_initializer_conv2d(),scope=scope,reuse=reuse)\n",
    "\t\t\tnet = tf.contrib.layers.max_pool2d(net, [2, 2], padding='SAME')\n",
    "\n",
    "\t\twith tf.variable_scope(\"conv5\") as scope:\n",
    "\t\t\tnet = tf.contrib.layers.conv2d(net, 2, [1, 1], activation_fn=None, padding='SAME',\n",
    "\t\t        weights_initializer=tf.contrib.layers.xavier_initializer_conv2d(),scope=scope,reuse=reuse)\n",
    "\t\t\tnet = tf.contrib.layers.max_pool2d(net, [2, 2], padding='SAME')\n",
    "\n",
    "\t\tnet = tf.contrib.layers.flatten(net)\n",
    "\t\n",
    "\treturn net\n",
    "\n",
    "\n",
    "def contrastive_loss(model1, model2, y, margin):\n",
    "\twith tf.name_scope(\"contrastive-loss\"):\n",
    "\t\tdistance = tf.sqrt(tf.reduce_sum(tf.pow(model1 - model2, 2), 1, keepdims=True))\n",
    "\t\tsimilarity = y * tf.square(distance)                                           # keep the similar label (1) close to each other\n",
    "\t\tdissimilarity = (1 - y) * tf.square(tf.maximum((margin - distance), 0))        # give penalty to dissimilar label if the distance is bigger than margin\n",
    "\t\treturn tf.reduce_mean(dissimilarity + similarity) / 2\n"
   ]
  }
 ],
 "metadata": {
  "kernelspec": {
   "display_name": "Python 3",
   "language": "python",
   "name": "python3"
  },
  "language_info": {
   "codemirror_mode": {
    "name": "ipython",
    "version": 3
   },
   "file_extension": ".py",
   "mimetype": "text/x-python",
   "name": "python",
   "nbconvert_exporter": "python",
   "pygments_lexer": "ipython3",
   "version": "3.5.2"
  }
 },
 "nbformat": 4,
 "nbformat_minor": 4
}
